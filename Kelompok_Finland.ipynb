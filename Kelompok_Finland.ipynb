{
  "nbformat": 4,
  "nbformat_minor": 0,
  "metadata": {
    "colab": {
      "provenance": []
    },
    "kernelspec": {
      "name": "python3",
      "display_name": "Python 3"
    },
    "language_info": {
      "name": "python"
    }
  },
  "cells": [
    {
      "cell_type": "markdown",
      "source": [
        "# Nama Kelompok: Finland\n",
        "\n",
        "<h3>5210411257 - Ridwan Halim</h3>\n",
        "<h3>5210411277 - taufiq Dwi Purnomo</h3>\n",
        "<h3>5210411285 - Guilliano Rasyid</h3>\n",
        "<h3>5210411286 - M. Sidiq Pramono</h3>"
      ],
      "metadata": {
        "id": "LEgSWEBUbw9i"
      }
    },
    {
      "cell_type": "code",
      "execution_count": null,
      "metadata": {
        "colab": {
          "base_uri": "https://localhost:8080/"
        },
        "id": "Fyxg5muLLFKf",
        "outputId": "e26ecdc9-fdec-4fc8-a31b-983955a82778"
      },
      "outputs": [
        {
          "output_type": "stream",
          "name": "stderr",
          "text": [
            "[nltk_data] Downloading package brown to /root/nltk_data...\n",
            "[nltk_data]   Package brown is already up-to-date!\n",
            "[nltk_data] Downloading package reuters to /root/nltk_data...\n",
            "[nltk_data]   Package reuters is already up-to-date!\n",
            "[nltk_data] Downloading package inaugural to /root/nltk_data...\n",
            "[nltk_data]   Package inaugural is already up-to-date!\n",
            "[nltk_data] Downloading package gutenberg to /root/nltk_data...\n",
            "[nltk_data]   Package gutenberg is already up-to-date!\n",
            "[nltk_data] Downloading package punkt to /root/nltk_data...\n",
            "[nltk_data]   Unzipping tokenizers/punkt.zip.\n"
          ]
        },
        {
          "output_type": "execute_result",
          "data": {
            "text/plain": [
              "True"
            ]
          },
          "metadata": {},
          "execution_count": 51
        }
      ],
      "source": [
        "import nltk\n",
        "from nltk.corpus import brown, reuters, inaugural, gutenberg\n",
        "\n",
        "nltk.download('brown')\n",
        "nltk.download('reuters')\n",
        "nltk.download('inaugural')\n",
        "nltk.download('gutenberg')\n",
        "nltk.download('punkt')"
      ]
    },
    {
      "cell_type": "markdown",
      "source": [
        "## Tugas"
      ],
      "metadata": {
        "id": "wdwni2lBVhB6"
      }
    },
    {
      "cell_type": "markdown",
      "source": [
        "###1. Cobalah corpus brown dengan menggunakan brown.words()\n",
        "\n",
        "a. Categories: fiction, mystery, humor, romance\n",
        "\n",
        "b. Files: cd12, cb02, cj19, cm01\n"
      ],
      "metadata": {
        "id": "8zl7OJqLWdcC"
      }
    },
    {
      "cell_type": "code",
      "source": [
        "for file in brown.fileids(['fiction', 'mystery', 'humor', 'romance']):\n",
        "    print(brown.words(file))"
      ],
      "metadata": {
        "colab": {
          "base_uri": "https://localhost:8080/"
        },
        "id": "p0lKhi8QVf-x",
        "outputId": "61735762-f6d9-485d-89ac-e46a8c681ccb"
      },
      "execution_count": null,
      "outputs": [
        {
          "output_type": "stream",
          "name": "stdout",
          "text": [
            "['Thirty-three', 'Scotty', 'did', 'not', 'go', 'back', ...]\n",
            "['Where', 'their', 'sharp', 'edges', 'seemed', ...]\n",
            "['Mickie', 'sat', 'over', 'his', 'second', ...]\n",
            "['The', 'Bishop', 'looked', 'at', 'him', 'coldly', ...]\n",
            "['Payne', 'dismounted', 'in', 'Madison', 'Place', ...]\n",
            "['With', 'a', 'sneer', ',', 'the', 'man', 'spread', ...]\n",
            "['If', 'the', 'crummy', 'bastard', 'could', 'write', ...]\n",
            "['Rousseau', 'is', 'so', 'persuasive', 'that', ...]\n",
            "['It', 'was', 'the', 'first', 'time', 'any', 'of', ...]\n",
            "['That', 'summer', 'the', 'gambling', 'houses', 'were', ...]\n",
            "['Standing', 'in', 'the', 'shelter', 'of', 'the', ...]\n",
            "['She', 'was', 'a', 'child', 'too', 'much', 'a', ...]\n",
            "['In', 'the', 'dim', 'underwater', 'light', 'they', ...]\n",
            "['He', 'brought', 'with', 'him', 'a', 'mixture', 'of', ...]\n",
            "['Beth', 'was', 'very', 'still', 'and', 'her', ...]\n",
            "['The', 'red', 'glow', 'from', 'the', 'cove', 'had', ...]\n",
            "['Burly', 'leathered', 'men', 'and', 'wrinkled', ...]\n",
            "['She', 'was', 'getting', 'real', 'dramatic', '.', ...]\n",
            "['There', 'was', 'one', 'fact', 'which', 'Rector', ...]\n",
            "['She', 'concluded', 'by', 'asking', 'him', 'to', ...]\n",
            "['Beckworth', 'handed', 'the', 'pass', 'to', 'the', ...]\n",
            "['I', 'would', 'not', 'want', 'to', 'be', 'one', 'of', ...]\n",
            "['It', 'was', 'not', 'as', 'though', 'she', 'noted', ...]\n",
            "['His', 'eyes', 'were', 'old', 'and', 'they', 'never', ...]\n",
            "['He', 'was', 'in', 'his', 'mid-fifties', 'at', 'this', ...]\n",
            "['But', 'they', 'all', 'said', ',', '``', 'No', ',', ...]\n",
            "['``', 'But', 'tell', 'me', ',', 'doctor', ',', ...]\n",
            "['Going', 'downstairs', 'with', 'the', 'tray', ',', ...]\n",
            "['Was', 'it', 'love', '?', '?', 'I', 'had', 'no', ...]\n",
            "['There', 'were', 'thirty-eight', 'patients', 'on', ...]\n",
            "['I', 'was', 'giving', 'the', 'parked', 'cars', 'the', ...]\n",
            "['The', 'fat', 'man', 'said', ',', '``', 'All', 'we', ...]\n",
            "['His', 'jowls', 'were', 'spiked', 'by', 'barbs', 'of', ...]\n",
            "['Then', 'he', 'turned', 'the', 'telephone', 'over', ...]\n",
            "['Eight', ',', 'nine', 'steps', 'above', 'him', ',', ...]\n",
            "['He', 'put', 'in', 'a', 'call', 'to', 'Cunningham', ...]\n",
            "['``', 'Well', \"''\", '--', 'said', 'Mr.', 'Skyros', ...]\n",
            "[\"Maude's\", 'long', 'nose', 'unexpectedly', 'wrinkled', ...]\n",
            "['``', 'Not', 'since', 'last', 'night', '.', 'I', ...]\n",
            "['``', 'Right', \"''\", ',', 'said', 'the', ...]\n",
            "['Andy', 'did', 'not', 'see', 'the', 'newspapers', ...]\n",
            "['His', 'son', 'watched', 'until', 'he', 'got', 'as', ...]\n",
            "['A', 'man', 'with', 'a', 'sketch', 'pad', 'in', ...]\n",
            "['``', 'Through', 'a', 'door', 'conveniently', ...]\n",
            "['``', 'Dammit', ',', 'Phil', ',', 'are', 'you', ...]\n",
            "['The', 'safe', 'at', 'Ingleside', 'District', ...]\n",
            "['``', 'She', 'says', 'she', 'has', 'to', 'finish', ...]\n",
            "['Slowly', 'he', 'pulled', 'out', 'the', 'hand', ...]\n",
            "['Harbor', 'Point', 'sticks', 'out', 'into', 'the', ...]\n",
            "['But', 'the', 'police', 'have', 'dropped', 'the', ...]\n",
            "['In', 'good', 'time', 'I', 'shall', 'get', 'to', ...]\n",
            "[\"That's\", 'what', 'the', 'man', 'had', 'said', '.', ...]\n",
            "['About', 'halfway', 'back', 'Pops', 'groped', ...]\n",
            "['They', 'neither', 'liked', 'nor', 'disliked', 'the', ...]\n",
            "['People', 'came', 'in', 'and', 'out', 'all', ...]\n",
            "['``', 'Thrifty', 'of', 'her', 'to', 'use', 'it', 'up', ...]\n",
            "['``', 'He', 'must', 'have', 'forgiven', 'me', \"''\", ...]\n",
            "['The', 'Momoyama', 'family', 'had', 'come', 'from', ...]\n",
            "['How', ',', 'he', 'wondered', ',', 'does', 'one', ...]\n",
            "['Spencer', 'said', 'nothing', '.', '``', 'Is', ...]\n",
            "['Rachel', 'steered', 'me', 'along', 'toward', 'a', ...]\n",
            "['``', 'And', \"I'll\", 'take', 'you', 'with', 'me', ...]\n",
            "['Among', 'us', ',', 'we', 'three', 'handled', 'quite', ...]\n",
            "['Such', 'a', 'little', 'thing', 'to', 'start', 'with', ...]\n",
            "['``', 'I', 'had', 'a', 'rather', 'small', 'place', ...]\n",
            "['But', 'one', 'night', 'Dookiyoon', 'moved', 'in', ...]\n",
            "['She', 'was', 'moving', 'through', 'a', 'screen', ...]\n",
            "['``', 'They', 'make', 'us', 'conformists', 'look', ...]\n",
            "['Unimpressed', ',', 'the', 'dog', 'plopped', 'on', ...]\n",
            "['When', 'Bobbie', 'Evans', 'smashed', 'up', 'his', ...]\n",
            "['She', 'called', 'then', 'to', 'say', 'she', 'had', ...]\n",
            "['I', \"don't\", 'really', 'believe', 'in', 'intuition', ...]\n",
            "['I', 'was', 'slowly', 'swimming', 'down', 'to', 'the', ...]\n",
            "['Two', 'letters', 'had', 'arrived', 'for', 'Miss', ...]\n",
            "['I', 'knew', 'it', 'as', 'surely', 'as', 'everybody', ...]\n",
            "['Under', 'normal', 'circumstances', ',', 'he', 'had', ...]\n",
            "['There', 'was', 'a', 'crowd', 'in', 'the', 'stands', ...]\n",
            "[\"Richard's\", 'next', 'interest', 'seemed', 'the', ...]\n",
            "['I', 'was', 'thinking', 'of', 'the', 'heat', 'and', ...]\n",
            "['Cady', \"didn't\", 'come', 'unglued', 'easily', ',', ...]\n",
            "['Martin', 'felt', 'it', 'was', 'incredible', 'that', ...]\n",
            "['``', 'Good', 'old', 'A-Z', \"''\", ',', 'Cap', 'said', ...]\n",
            "['It', 'was', 'among', 'these', 'that', 'Hinkle', ...]\n",
            "['I', 'realized', 'that', 'Hamlet', 'was', 'faced', ...]\n",
            "['Needless', 'to', 'say', ',', 'I', 'was', 'furious', ...]\n",
            "['Up', 'to', 'date', ',', 'however', ',', 'his', ...]\n",
            "['Ambiguity', 'Nothing', 'in', 'English', 'has', ...]\n",
            "['I', 'called', 'the', 'other', 'afternoon', 'on', ...]\n",
            "['One', 'day', ',', 'the', 'children', 'had', 'wanted', ...]\n",
            "['Pueri', 'aquam', 'de', 'silvas', 'ad', 'agricolas', ...]\n",
            "['Dear', 'Sirs', ':', 'Let', 'me', 'begin', 'by', ...]\n"
          ]
        }
      ]
    },
    {
      "cell_type": "code",
      "source": [
        "brown.words(['cd12', 'cb02', 'cj19', 'cm01'])"
      ],
      "metadata": {
        "colab": {
          "base_uri": "https://localhost:8080/"
        },
        "id": "y2bk7WNFW-Oa",
        "outputId": "6372a971-9339-4b40-9236-92f44c761474"
      },
      "execution_count": null,
      "outputs": [
        {
          "output_type": "execute_result",
          "data": {
            "text/plain": [
              "['Much', 'more', 'than', 'shelter', ',', 'housing', ...]"
            ]
          },
          "metadata": {},
          "execution_count": 65
        }
      ]
    },
    {
      "cell_type": "markdown",
      "source": [
        "###2. Cobalah corpus brown dengan menggunakan dengan isi, kode tahun '1993'\n",
        "\n",
        "a. inaugural.raw()\n",
        "\n",
        "b. inaugural.words()\n",
        "\n",
        "c. inaugural.sents()\n",
        "\n",
        "d. inaugural.pars()\n"
      ],
      "metadata": {
        "id": "X40f3vQzX01S"
      }
    },
    {
      "cell_type": "code",
      "source": [
        "for i in inaugural.fileids():\n",
        "    if '1993' in i:\n",
        "        raw = inaugural.raw(i)\n",
        "        words = inaugural.words(i)\n",
        "        sents = inaugural.sents(i)\n",
        "        paras = inaugural.paras(i)"
      ],
      "metadata": {
        "id": "v7OJph9sX0fa"
      },
      "execution_count": null,
      "outputs": []
    },
    {
      "cell_type": "code",
      "source": [
        "print(raw)"
      ],
      "metadata": {
        "colab": {
          "base_uri": "https://localhost:8080/"
        },
        "id": "y0u0V41OYZrM",
        "outputId": "2260ea6c-d275-417d-ba0c-7f533a0bb830"
      },
      "execution_count": null,
      "outputs": [
        {
          "output_type": "stream",
          "name": "stdout",
          "text": [
            "My fellow citizens, today we celebrate the mystery of American renewal. This ceremony is held in the depth of winter, but by the words we speak and the faces we show the world, we force the spring. A spring reborn in the world's oldest democracy, that brings forth the vision and courage to reinvent America. When our founders boldly declared America's independence to the world, and our purposes to the Almighty, they knew that America, to endure, would have to change. Not change for change sake, but change to preserve America's ideals: life, liberty, the pursuit of happiness.\n",
            "\n",
            "Though we march to the music of our time, our mission is timeless. Each generation of American's must define what it means to be an American. On behalf of our nation, I salute my predecessor, President Bush, for his half-century of service to America and I thank the millions of men and women whose steadfastness and sacrifice triumphed over depression, fascism and communism.\n",
            "\n",
            "Today, a generation raised in the shadows of the Cold War assumes new responsibilities in a world warmed by the sunshine of freedom, but threatened still by ancient hatreds and new plagues. Raised in unrivalled prosperity, we inherit an economy that is still the world's strongest, but is weakened by business failures, stagnant wages, increasing inequality, and deep divisions among our own people.\n",
            "\n",
            "When George Washington first took the oath I have just sworn to uphold, news travelled slowly across the land by horseback, and across the ocean by boat. Now the sights and sounds of this ceremony are broadcast instantaneously tobillions around the world. Communications and commerce are global. Investment is mobile. Technology is almost magical, and ambition for a better life is now universal.\n",
            "\n",
            "We earn our livelihood in America today in peaceful competition with people all across the Earth. Profound and powerful forces are shaking and remaking our world, and the urgent question of our time is whether we can make change our friend and not our enemy. This new world has already enriched the lives of millions of Americans who are able to compete and win in it. But when most people are working harder for less, when others cannot work at all, when the cost of health care devastates families and threatens to bankrupt our enterprises, great and small; when the fear of crime robs law abiding citizens of their freedom; and when millions of poor children cannot even imagine the lives we are calling them to lead, we have not made change our friend.\n",
            "\n",
            "We know we have to face hard truths and take strong steps, but we have not done so. Instead we have drifted, and that drifting has eroded our resources, fractured our economy, and shaken our confidence. Though our challenges are fearsome, so are our strengths. Americans have ever been a restless, questing, hopeful people, and we must bring to our task today the vision and will of those who came before us. From our Revolution to the Civil War, to the Great Depression, to the Civil Rights movement, our people have always mustered the determination to construct from these crises the pillars of our history. Thomas Jefferson believed that to preserve the very foundations of our nation we would need dramatic change from time to time. Well, my fellow Americans, this is our time. Let us embrace it.\n",
            "\n",
            "Our democracy must be not only the envy of the world but the engine of our own renewal. There is nothing wrong with America that cannot be cured by what is right with America.\n",
            "\n",
            "And so today we pledge an end to the era of deadlock and drift, and a new season of American renewal has begun.\n",
            "\n",
            "To renew America we must be bold. We must do what no generation has had to do before. We must invest more in our own people, in their jobs, and in their future, and at the same time cut our massive debt and we must do so in a world in which we must compete for every opportunity. It will not be easy. It will require sacrifice, but it can be done, and done fairly. Not choosing sacrifice for its own sake, but for our own sake.\n",
            "\n",
            "We must provide for our nation the way a family provides for its children. Our founders saw themselves in the light of posterity. We can do no less. Anyone who has ever watched a child's eyes wander into sleep knows what posterity is. Posterity is the world to come, the world for whom we hold our ideals, from whom we have borrowed our planet, and to whom we bear sacred responsibilities. We must do what America does best, offer more opportunity to all and demand more responsibility from all.\n",
            "\n",
            "It is time to break the bad habit of expecting something for nothing: from our government, or from each other. Let us all take more responsibility, not only for ourselves and our families, but for our communities and our country. To renew America we must revitalize our democracy. This beautiful capitol, like every capitol since the dawn of civilization, is often a place of intrigue and calculation. Powerful people maneuver for position and worry endlessly about who is in and who is out, who is up and who is down, forgetting those people whose toil and sweat sends us here and paves our way.\n",
            "\n",
            "Americans deserve better, and in this city today there are people who want to do better, and so I say to all of you here, let us resolve to reform our politics, so that power and privilege no longer shout down the voice of the people. Let us put aside personal advantage, so that we can feel the pain and see the promise of America. Let us resolve to make our government a place for what Franklin Roosevelt called \"bold, persistent experimentation, a government for our tomorrows, not our yesterdays.\" Let us give this capitol back to the people to whom it belongs.\n",
            "\n",
            "To renew America we must meet challenges abroad, as well as at home. There is no longer a clear division between what is foreign and what is domestic. The world economy, the world environment, the world AIDS crisis, the world arms race: they affect us all. Today as an old order passes, the new world is more free, but less stable. Communism's collapse has called forth old animosities, and new dangers. Clearly, America must continue to lead the world we did so much to make. While America rebuilds at home, we will not shrink from the challenges nor fail to seize the opportunities of this new world.\n",
            "\n",
            "Together with our friends and allies, we will work together to shape change, lest it engulf us. When our vital interests are challenged, or the will and conscience of the international community is defied, we will act; with peaceful diplomacy whenever possible, with force when necessary. The brave Americans serving our nation today in the Persian Gulf, in Somalia, and wherever else they stand, are testament to our resolve, but our greatest strength is the power of our ideas, which are still new in many lands. Across the world, we see them embraced and we rejoice. Our hopes, our hearts, our hands, are with those on every continent, who are building democracy and freedom. Their cause is America's cause. The American people have summoned the change we celebrate today. You have raised your voices in an unmistakable chorus, you have cast your votes in historic numbers, you have changed the face of congress, the presidency, and the political process itself. Yes, you, my fellow Americans, have forced the spring. Now WE must do the work the season demands. To that work I now turn with ALL the authority of my office. I ask the congress to join with me; but no president, no congress, no government can undertake THIS mission alone.\n",
            "\n",
            "My fellow Americans, you, too, must play your part in our renewal. I challenge a new generation of YOUNG Americans to a season of service, to act on your idealism, by helping troubled children, keeping company with those in need, reconnecting our torn communities. There is so much to be done. Enough, indeed, for millions of others who are still young in spirit, to give of themselves in service, too. In serving we recognize a simple, but powerful, truth: we need each other, and we must care for one another. Today we do more than celebrate America, we rededicate ourselves to the very idea of America, an idea born in revolution, and renewed through two centuries of challenge, an idea tempered by the knowledge that but for fate, we, the fortunate and the unfortunate, might have been each other; an idea ennobled by the faith that our nation can summon from its myriad diversity, the deepest measure of unity; an idea infused with the conviction that America's journey long, heroic journey must go forever upward.\n",
            "\n",
            "And so, my fellow Americans, as we stand at the edge of the 21st Century, let us begin anew, with energy and hope, with faith and discipline, and let us work until our work is done. The Scripture says: \"And let us not be weary in well-doing, for in due season we shall reap, if we faint not.\" From this joyful mountaintop of celebration we hear a call to service in the valley. We have heard the trumpets, we have changed the guard, and now each in our own way, and with God's help, we must answer the call.\n",
            "\n",
            "Thank you, and God bless you all.\n",
            "\n",
            " \n",
            "\n"
          ]
        }
      ]
    },
    {
      "cell_type": "code",
      "source": [
        "print(words)"
      ],
      "metadata": {
        "colab": {
          "base_uri": "https://localhost:8080/"
        },
        "id": "8dMApL-ZZDkt",
        "outputId": "882fe09d-d592-4705-cca9-450c468fd396"
      },
      "execution_count": null,
      "outputs": [
        {
          "output_type": "stream",
          "name": "stdout",
          "text": [
            "['My', 'fellow', 'citizens', ',', 'today', 'we', ...]\n"
          ]
        }
      ]
    },
    {
      "cell_type": "code",
      "source": [
        "print(sents)"
      ],
      "metadata": {
        "colab": {
          "base_uri": "https://localhost:8080/"
        },
        "id": "lX2yWp6WZEyn",
        "outputId": "42e4e7d2-4b6f-4b02-ac89-e60f726268b9"
      },
      "execution_count": null,
      "outputs": [
        {
          "output_type": "stream",
          "name": "stdout",
          "text": [
            "[['My', 'fellow', 'citizens', ',', 'today', 'we', 'celebrate', 'the', 'mystery', 'of', 'American', 'renewal', '.'], ['This', 'ceremony', 'is', 'held', 'in', 'the', 'depth', 'of', 'winter', ',', 'but', 'by', 'the', 'words', 'we', 'speak', 'and', 'the', 'faces', 'we', 'show', 'the', 'world', ',', 'we', 'force', 'the', 'spring', '.'], ...]\n"
          ]
        }
      ]
    },
    {
      "cell_type": "code",
      "source": [
        "print(paras)"
      ],
      "metadata": {
        "colab": {
          "base_uri": "https://localhost:8080/"
        },
        "id": "XexBSll9ZFSy",
        "outputId": "3896d84f-67d8-47ee-d683-efbdf76e1f80"
      },
      "execution_count": null,
      "outputs": [
        {
          "output_type": "stream",
          "name": "stdout",
          "text": [
            "[[['My', 'fellow', 'citizens', ',', 'today', 'we', 'celebrate', 'the', 'mystery', 'of', 'American', 'renewal', '.'], ['This', 'ceremony', 'is', 'held', 'in', 'the', 'depth', 'of', 'winter', ',', 'but', 'by', 'the', 'words', 'we', 'speak', 'and', 'the', 'faces', 'we', 'show', 'the', 'world', ',', 'we', 'force', 'the', 'spring', '.'], ['A', 'spring', 'reborn', 'in', 'the', 'world', \"'\", 's', 'oldest', 'democracy', ',', 'that', 'brings', 'forth', 'the', 'vision', 'and', 'courage', 'to', 'reinvent', 'America', '.'], ['When', 'our', 'founders', 'boldly', 'declared', 'America', \"'\", 's', 'independence', 'to', 'the', 'world', ',', 'and', 'our', 'purposes', 'to', 'the', 'Almighty', ',', 'they', 'knew', 'that', 'America', ',', 'to', 'endure', ',', 'would', 'have', 'to', 'change', '.'], ['Not', 'change', 'for', 'change', 'sake', ',', 'but', 'change', 'to', 'preserve', 'America', \"'\", 's', 'ideals', ':', 'life', ',', 'liberty', ',', 'the', 'pursuit', 'of', 'happiness', '.']], [['Though', 'we', 'march', 'to', 'the', 'music', 'of', 'our', 'time', ',', 'our', 'mission', 'is', 'timeless', '.'], ['Each', 'generation', 'of', 'American', \"'\", 's', 'must', 'define', 'what', 'it', 'means', 'to', 'be', 'an', 'American', '.'], ['On', 'behalf', 'of', 'our', 'nation', ',', 'I', 'salute', 'my', 'predecessor', ',', 'President', 'Bush', ',', 'for', 'his', 'half', '-', 'century', 'of', 'service', 'to', 'America', 'and', 'I', 'thank', 'the', 'millions', 'of', 'men', 'and', 'women', 'whose', 'steadfastness', 'and', 'sacrifice', 'triumphed', 'over', 'depression', ',', 'fascism', 'and', 'communism', '.']], ...]\n"
          ]
        }
      ]
    },
    {
      "cell_type": "markdown",
      "source": [
        "###3. Tampilkan (5) kategori dan (10) fields pada corpus reuters!"
      ],
      "metadata": {
        "id": "JHbMMTnlZtxu"
      }
    },
    {
      "cell_type": "code",
      "source": [
        "reuters.categories()[:5]"
      ],
      "metadata": {
        "colab": {
          "base_uri": "https://localhost:8080/"
        },
        "id": "xM61jo2rZtHU",
        "outputId": "bad1b412-e435-4f9c-c606-a798da67d434"
      },
      "execution_count": null,
      "outputs": [
        {
          "output_type": "execute_result",
          "data": {
            "text/plain": [
              "['acq', 'alum', 'barley', 'bop', 'carcass']"
            ]
          },
          "metadata": {},
          "execution_count": 80
        }
      ]
    },
    {
      "cell_type": "code",
      "source": [
        "reuters.fileids()[:10]"
      ],
      "metadata": {
        "colab": {
          "base_uri": "https://localhost:8080/"
        },
        "id": "w5PDjc5oaP03",
        "outputId": "f59092b8-6a92-4852-9cda-d6399be2def7"
      },
      "execution_count": null,
      "outputs": [
        {
          "output_type": "execute_result",
          "data": {
            "text/plain": [
              "['test/14826',\n",
              " 'test/14828',\n",
              " 'test/14829',\n",
              " 'test/14832',\n",
              " 'test/14833',\n",
              " 'test/14839',\n",
              " 'test/14840',\n",
              " 'test/14841',\n",
              " 'test/14842',\n",
              " 'test/14843']"
            ]
          },
          "metadata": {},
          "execution_count": 81
        }
      ]
    },
    {
      "cell_type": "code",
      "source": [
        "for cat in reuters.categories()[:5]:\n",
        "    print(reuters.fileids(cat)[:10])"
      ],
      "metadata": {
        "colab": {
          "base_uri": "https://localhost:8080/"
        },
        "id": "qNsJiNeyaWfG",
        "outputId": "611dcd3a-a3bb-493a-e5f1-2abf9933d753"
      },
      "execution_count": null,
      "outputs": [
        {
          "output_type": "stream",
          "name": "stdout",
          "text": [
            "['test/14843', 'test/14852', 'test/14865', 'test/14888', 'test/14900', 'test/14907', 'test/14909', 'test/14921', 'test/14932', 'test/14941']\n",
            "['test/15368', 'test/16179', 'test/16318', 'test/16320', 'test/16750', 'test/16868', 'test/17698', 'test/17702', 'test/17714', 'test/17870']\n",
            "['test/15618', 'test/15649', 'test/15676', 'test/15728', 'test/15871', 'test/15875', 'test/15952', 'test/17767', 'test/17769', 'test/18024']\n",
            "['test/14862', 'test/15543', 'test/15573', 'test/15646', 'test/15793', 'test/16108', 'test/16158', 'test/16226', 'test/16759', 'test/16766']\n",
            "['test/14858', 'test/15254', 'test/15642', 'test/15798', 'test/16379', 'test/16564', 'test/16784', 'test/18034', 'test/18099', 'test/18276']\n"
          ]
        }
      ]
    }
  ]
}